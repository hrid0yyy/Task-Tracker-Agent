{
  "cells": [
    {
      "cell_type": "markdown",
      "metadata": {
        "id": "hKcSDBpkDi_k"
      },
      "source": [
        "Hello World Agent"
      ]
    },
    {
      "cell_type": "code",
      "execution_count": null,
      "metadata": {
        "id": "_8kDBnY0DYHC"
      },
      "outputs": [],
      "source": [
        "from typing import Dict, TypedDict\n",
        "from langgraph.graph import StateGraph"
      ]
    },
    {
      "cell_type": "code",
      "execution_count": null,
      "metadata": {
        "id": "CGEyBxgdDng6"
      },
      "outputs": [],
      "source": [
        "class AgentState(TypedDict):\n",
        "    message: str\n",
        "\n",
        "def greeting_node(state: AgentState) -> AgentState:\n",
        "    \"\"\" Simple nodes that adds a greeting message to the state\"\"\"\n",
        "    state[\"message\"] = \"Hey \"+ state[\"message\"] +\", how are you doing?\"\n",
        "    return state\n",
        "\n",
        "def helper_node(state: AgentState) -> AgentState:\n",
        "    \"\"\" Asks for help \"\"\"\n",
        "    state[\"message\"] += \" Can you help me please!\"\n",
        "    return state"
      ]
    },
    {
      "cell_type": "code",
      "execution_count": null,
      "metadata": {
        "id": "psv4sjJXE0Gz"
      },
      "outputs": [],
      "source": [
        "graph = StateGraph(AgentState)\n",
        "graph.add_node(\"greeter\", greeting_node)\n",
        "graph.add_node(\"helper\", helper_node)\n",
        "graph.add_edge(\"greeter\", \"helper\")\n",
        "graph.set_entry_point(\"greeter\")\n",
        "graph.set_finish_point(\"helper\")\n",
        "\n",
        "app = graph.compile()"
      ]
    },
    {
      "cell_type": "code",
      "execution_count": null,
      "metadata": {
        "colab": {
          "base_uri": "https://localhost:8080/",
          "height": 350
        },
        "id": "B8CQ_aeWFgjf",
        "outputId": "c952bd5f-9c28-4249-a71f-7a6021385c3c"
      },
      "outputs": [
        {
          "data": {
            "image/png": "[encoded data removed]",
            "text/plain": [
              "<IPython.core.display.Image object>"
            ]
          },
          "metadata": {},
          "output_type": "display_data"
        }
      ],
      "source": [
        "from IPython.display import Image, display\n",
        "display(Image(app.get_graph().draw_mermaid_png()))"
      ]
    },
    {
      "cell_type": "code",
      "execution_count": null,
      "metadata": {
        "colab": {
          "base_uri": "https://localhost:8080/"
        },
        "id": "M8oZRi3WF8Mh",
        "outputId": "96143dfb-3d7f-4399-fc64-4dc07bdcda50"
      },
      "outputs": [
        {
          "name": "stdout",
          "output_type": "stream",
          "text": [
            "Hey Bob, how are you doing? Can you help me please!\n"
          ]
        }
      ],
      "source": [
        "result = app.invoke({\"message\" : \"Bob\"})\n",
        "print(result['message'])"
      ]
    },
    {
      "cell_type": "markdown",
      "metadata": {
        "id": "dONi5UmoHdBz"
      },
      "source": [
        "Multiple Inputs"
      ]
    },
    {
      "cell_type": "code",
      "execution_count": null,
      "metadata": {
        "id": "JjjghMNtHgFy"
      },
      "outputs": [],
      "source": [
        "from typing import List, TypedDict\n",
        "from langgraph.graph import StateGraph, START, END"
      ]
    },
    {
      "cell_type": "code",
      "execution_count": null,
      "metadata": {
        "id": "yon_ulU0Hi9U"
      },
      "outputs": [],
      "source": [
        "class AgentState(TypedDict):\n",
        "  values: List[int]\n",
        "  name: str\n",
        "  result: str"
      ]
    },
    {
      "cell_type": "code",
      "execution_count": null,
      "metadata": {
        "id": "H1mmd4LcH66V"
      },
      "outputs": [],
      "source": [
        "def process_values(state: AgentState) -> AgentState:\n",
        "  \"\"\" This Function adds up all the value in the result \"\"\"\n",
        "  sum_list = sum(state['values'])\n",
        "  state['result'] = f\"Hey {state['name']} your output is {sum_list}\"\n",
        "  return state"
      ]
    },
    {
      "cell_type": "code",
      "execution_count": null,
      "metadata": {
        "id": "zMHJjj-PIiH4"
      },
      "outputs": [],
      "source": [
        "graph = StateGraph(AgentState)\n",
        "graph.add_node(\"process_values\", process_values)\n",
        "graph.add_edge(START, \"process_values\")\n",
        "graph.add_edge(\"process_values\", END)\n",
        "\n",
        "app = graph.compile()"
      ]
    },
    {
      "cell_type": "code",
      "execution_count": null,
      "metadata": {
        "colab": {
          "base_uri": "https://localhost:8080/",
          "height": 251
        },
        "id": "V6vcF6ybI4AK",
        "outputId": "22d26c1d-78ab-422d-8516-c494bf4c4045"
      },
      "outputs": [
        {
          "data": {
            "image/png": "[encoded data removed]",
            "text/plain": [
              "<IPython.core.display.Image object>"
            ]
          },
          "metadata": {},
          "output_type": "display_data"
        }
      ],
      "source": [
        "from IPython.display import Image, display\n",
        "display(Image(app.get_graph().draw_mermaid_png()))"
      ]
    },
    {
      "cell_type": "code",
      "execution_count": null,
      "metadata": {
        "colab": {
          "base_uri": "https://localhost:8080/"
        },
        "id": "_IZGP1etIzQi",
        "outputId": "3b7a2afc-83d5-4e1b-8e9e-1a40177ddecf"
      },
      "outputs": [
        {
          "name": "stdout",
          "output_type": "stream",
          "text": [
            "Hey Bob your output is 15\n"
          ]
        }
      ],
      "source": [
        "res = app.invoke({\"name\" : \"Bob\", \"values\" : [1,2,3,4,5]})\n",
        "print(res['result'])"
      ]
    },
    {
      "cell_type": "markdown",
      "metadata": {
        "id": "QvQd6Z1fLEZt"
      },
      "source": [
        "Conditional Graph"
      ]
    },
    {
      "cell_type": "code",
      "execution_count": null,
      "metadata": {
        "id": "GgIzP8SLLG67"
      },
      "outputs": [],
      "source": [
        "from typing import List, TypedDict\n",
        "from langgraph.graph import StateGraph, START, END"
      ]
    },
    {
      "cell_type": "code",
      "execution_count": null,
      "metadata": {
        "id": "sb3R6gvVLKUb"
      },
      "outputs": [],
      "source": [
        "class AgentState(TypedDict):\n",
        "  a: int\n",
        "  b: int\n",
        "  op: str\n",
        "  result: int"
      ]
    },
    {
      "cell_type": "code",
      "execution_count": null,
      "metadata": {
        "id": "5evn039mLYwd"
      },
      "outputs": [],
      "source": [
        "def addition(state: AgentState) -> AgentState:\n",
        "  \"\"\"\" This node adds two number \"\"\"\n",
        "  state['result'] = state['a'] + state['b']\n",
        "  return state\n",
        "\n",
        "def subtraction(state: AgentState) -> AgentState:\n",
        "  \"\"\"\" This node subtracts two number \"\"\"\n",
        "  state['result'] = state['a'] - state['b']\n",
        "  return state\n",
        "\n",
        "def multiplication(state: AgentState) -> AgentState:\n",
        "  \"\"\"\" This node multiplies two number \"\"\"\n",
        "  state['result'] = state['a'] * state['b']\n",
        "  return state\n",
        "\n",
        "def division(state: AgentState) -> AgentState:\n",
        "  \"\"\"\" This node divides two number \"\"\"\n",
        "  state['result'] = state['a'] / state['b']\n",
        "  return state\n",
        "\n",
        "def decision_node(state: AgentState) -> AgentState:\n",
        "  \"\"\" This node decides which nodes to be next based on operation\"\"\"\n",
        "  if state['op'] == '+':\n",
        "    return \"addition_operation\"\n",
        "  elif state['op'] == '-':\n",
        "    return \"subtraction_operation\"\n",
        "  elif state['op'] == '*':\n",
        "    return \"multiplication_operation\"\n",
        "  elif state['op'] == '/':\n",
        "    return \"divide_operation\"\n"
      ]
    },
    {
      "cell_type": "code",
      "execution_count": null,
      "metadata": {
        "id": "t6gRULR2MymM"
      },
      "outputs": [],
      "source": [
        "graph = StateGraph(AgentState)\n",
        "graph.add_node(\"add_node\", addition)\n",
        "graph.add_node(\"sub_ndoe\", subtraction)\n",
        "graph.add_node(\"mult_node\", multiplication)\n",
        "graph.add_node(\"div_node\", division)\n",
        "graph.add_node(\"router\", lambda state:state) #pass through function\n",
        "\n",
        "graph.add_edge(START, \"router\")\n",
        "graph.add_conditional_edges(\n",
        "    \"router\",\n",
        "    decision_node,\n",
        "    {\n",
        "        # Edge : Node\n",
        "        \"addition_operation\": \"add_node\",\n",
        "        \"subtraction_operation\": \"sub_ndoe\",\n",
        "        \"multiplication_operation\": \"mult_node\",\n",
        "        \"divide_operation\": \"div_node\"\n",
        "    }\n",
        "\n",
        ")\n",
        "graph.add_edge(\"add_node\", END)\n",
        "graph.add_edge(\"sub_ndoe\", END)\n",
        "graph.add_edge(\"mult_node\", END)\n",
        "graph.add_edge(\"div_node\", END)\n",
        "\n",
        "app = graph.compile()"
      ]
    },
    {
      "cell_type": "code",
      "execution_count": null,
      "metadata": {
        "colab": {
          "base_uri": "https://localhost:8080/",
          "height": 374
        },
        "id": "7MG7ooKwN7zu",
        "outputId": "66db33e9-b3b4-4864-c0be-3a7dfd6b4e90"
      },
      "outputs": [
        {
          "data": {
            "image/png": "[encoded data removed]",
            "text/plain": [
              "<IPython.core.display.Image object>"
            ]
          },
          "metadata": {},
          "output_type": "display_data"
        }
      ],
      "source": [
        "from IPython.display import Image, display\n",
        "display(Image(app.get_graph().draw_mermaid_png()))"
      ]
    },
    {
      "cell_type": "code",
      "execution_count": null,
      "metadata": {
        "colab": {
          "base_uri": "https://localhost:8080/"
        },
        "id": "psKxfbtIOLNO",
        "outputId": "a08387ee-e7a2-4589-e921-7cf425b9c6cb"
      },
      "outputs": [
        {
          "name": "stdout",
          "output_type": "stream",
          "text": [
            "{'a': 10, 'b': 5, 'op': '+', 'result': 15}\n"
          ]
        }
      ],
      "source": [
        "init_state = AgentState(a=10, b=5, op=\"+\")\n",
        "res = app.invoke(init_state)\n",
        "print(res)"
      ]
    },
    {
      "cell_type": "markdown",
      "metadata": {
        "id": "Ou6RMdVbPPJd"
      },
      "source": [
        "Looping Graph"
      ]
    },
    {
      "cell_type": "code",
      "execution_count": null,
      "metadata": {
        "id": "MSA04YbxPRZR"
      },
      "outputs": [],
      "source": [
        "from typing import List, TypedDict\n",
        "from langgraph.graph import StateGraph, START, END\n",
        "import random"
      ]
    },
    {
      "cell_type": "code",
      "execution_count": null,
      "metadata": {
        "id": "HssSyox4QGuu"
      },
      "outputs": [],
      "source": [
        "class AgentState(TypedDict):\n",
        "    name: str\n",
        "    message: str\n",
        "    number: List[int]\n",
        "    counter: int\n"
      ]
    },
    {
      "cell_type": "code",
      "execution_count": null,
      "metadata": {
        "id": "X-YK3tNIQQQO"
      },
      "outputs": [],
      "source": [
        "def greeting_node(state: AgentState) -> AgentState:\n",
        "    \"\"\" Simple nodes that adds a greeting message to the state\"\"\"\n",
        "    state[\"message\"] = f'Hi there {state[\"name\"]}'\n",
        "    state[\"counter\"] = 0\n",
        "    return state\n",
        "\n",
        "def random_node(state: AgentState) -> AgentState:\n",
        "    \"\"\"\" Genarte random number \"\"\"\n",
        "    state[\"number\"].append(random.randint(0,10))\n",
        "    state[\"counter\"] += 1\n",
        "\n",
        "    return state\n",
        "\n",
        "def should_continue(state: AgentState) -> AgentState:\n",
        "  \"\"\" Router node to take the decision if the loop should continue or not\"\"\"\n",
        "  if state[\"counter\"] < 5:\n",
        "    print(\"Entering loop \", state[\"counter\"])\n",
        "    return \"loop\"\n",
        "  else:\n",
        "    print(\"Exiting loop \", state[\"counter\"])\n",
        "    return \"exit\""
      ]
    },
    {
      "cell_type": "code",
      "execution_count": null,
      "metadata": {
        "id": "4z30d2lKRrBO"
      },
      "outputs": [],
      "source": [
        "graph = StateGraph(AgentState)\n",
        "\n",
        "graph.add_node(\"greeter\", greeting_node)\n",
        "graph.add_node(\"random_genarator\", random_node)\n",
        "graph.add_edge(\"greeter\", \"random_genarator\")\n",
        "\n",
        "graph.add_conditional_edges(\n",
        "    \"random_genarator\",\n",
        "    should_continue,\n",
        "    {\n",
        "        \"loop\" : \"random_genarator\",\n",
        "        \"exit\" : END\n",
        "    }\n",
        ")\n",
        "\n",
        "graph.add_edge(START, \"greeter\")\n",
        "app = graph.compile()"
      ]
    },
    {
      "cell_type": "code",
      "execution_count": null,
      "metadata": {
        "colab": {
          "base_uri": "https://localhost:8080/",
          "height": 448
        },
        "id": "exxuBCPXSjbF",
        "outputId": "7fbe1927-6526-40ff-c8ef-25f5718d4134"
      },
      "outputs": [
        {
          "data": {
            "image/png": "[encoded data removed]",
            "text/plain": [
              "<IPython.core.display.Image object>"
            ]
          },
          "metadata": {},
          "output_type": "display_data"
        }
      ],
      "source": [
        "from IPython.display import Image, display\n",
        "display(Image(app.get_graph().draw_mermaid_png()))"
      ]
    },
    {
      "cell_type": "code",
      "execution_count": null,
      "metadata": {
        "colab": {
          "base_uri": "https://localhost:8080/"
        },
        "id": "KNpveWtzSpzs",
        "outputId": "a06b17f8-dc08-4dee-ea27-a58ea29a8512"
      },
      "outputs": [
        {
          "name": "stdout",
          "output_type": "stream",
          "text": [
            "Entering loop  1\n",
            "Entering loop  2\n",
            "Entering loop  3\n",
            "Entering loop  4\n",
            "Exiting loop  5\n",
            "{'name': 'Bob', 'message': 'Hi there Bob', 'number': [9, 4, 7, 10, 2], 'counter': 5}\n"
          ]
        }
      ],
      "source": [
        "init_state = AgentState(name=\"Bob\", number = [])\n",
        "\n",
        "res = app.invoke(init_state)\n",
        "print(res)\n"
      ]
    },
    {
      "cell_type": "markdown",
      "metadata": {
        "id": "hRrW83nSI-Ga"
      },
      "source": [
        "ReAct Agent"
      ]
    },
    {
      "cell_type": "code",
      "execution_count": null,
      "metadata": {
        "id": "JjQtNycoHBIo"
      },
      "outputs": [],
      "source": [
        "from typing import Annotated, Sequence, TypedDict\n",
        "from langchain_core.messages import BaseMessage, ToolMessage, SystemMessage, HumanMessage\n",
        "from langchain_core.tools import tool\n",
        "from langgraph.graph.message import add_messages\n",
        "from langgraph.graph import StateGraph, END\n",
        "from langgraph.prebuilt import ToolNode\n",
        "from langchain_google_genai import ChatGoogleGenerativeAI\n"
      ]
    },
    {
      "cell_type": "code",
      "execution_count": null,
      "metadata": {
        "id": "MNKheWmrHJ62"
      },
      "outputs": [],
      "source": [
        "from dotenv import load_dotenv\n",
        "load_dotenv()  "
      ]
    },
    {
      "cell_type": "code",
      "execution_count": null,
      "metadata": {
        "id": "xunWM-g8Ifcj"
      },
      "outputs": [],
      "source": [
        "class AgentState(TypedDict):\n",
        "    messages: Annotated[Sequence[BaseMessage], add_messages]"
      ]
    },
    {
      "cell_type": "code",
      "execution_count": null,
      "metadata": {
        "id": "ioDXXLTbIh0L"
      },
      "outputs": [],
      "source": [
        "@tool\n",
        "def add(a: int, b:int):\n",
        "    \"\"\"This is an addition function that adds 2 numbers together\"\"\"\n",
        "\n",
        "    return a + b\n",
        "\n",
        "@tool\n",
        "def subtract(a: int, b: int):\n",
        "    \"\"\"Subtraction function\"\"\"\n",
        "    return a - b\n",
        "\n",
        "@tool\n",
        "def multiply(a: int, b: int):\n",
        "    \"\"\"Multiplication function\"\"\"\n",
        "    return a * b\n",
        "\n",
        "tools = [add, subtract, multiply]"
      ]
    },
    {
      "cell_type": "code",
      "execution_count": null,
      "metadata": {
        "id": "QfGtekmMIlBK"
      },
      "outputs": [],
      "source": [
        "model = ChatGoogleGenerativeAI(model=\"gemini-2.0-flash\").bind_tools(tools)"
      ]
    },
    {
      "cell_type": "code",
      "execution_count": null,
      "metadata": {
        "id": "FFDwtWLZIqH5"
      },
      "outputs": [],
      "source": [
        "def model_call(state:AgentState) -> AgentState:\n",
        "    system_prompt = SystemMessage(content=\n",
        "        \"You are my AI assistant, please answer my query to the best of your ability.\"\n",
        "    )\n",
        "    response = model.invoke([system_prompt] + state[\"messages\"])\n",
        "    return {\"messages\": [response]}\n",
        "\n",
        "\n",
        "def should_continue(state: AgentState):\n",
        "    messages = state[\"messages\"]\n",
        "    last_message = messages[-1]\n",
        "    if not last_message.tool_calls:\n",
        "        return \"end\"\n",
        "    else:\n",
        "        return \"continue\""
      ]
    },
    {
      "cell_type": "code",
      "execution_count": null,
      "metadata": {
        "id": "Vtyz2Ir_IuNi"
      },
      "outputs": [],
      "source": [
        "graph = StateGraph(AgentState)\n",
        "graph.add_node(\"our_agent\", model_call)\n",
        "\n",
        "\n",
        "tool_node = ToolNode(tools=tools)\n",
        "graph.add_node(\"tools\", tool_node)\n",
        "\n",
        "graph.set_entry_point(\"our_agent\")\n",
        "\n",
        "graph.add_conditional_edges(\n",
        "    \"our_agent\",\n",
        "    should_continue,\n",
        "    {\n",
        "        \"continue\": \"tools\",\n",
        "        \"end\": END,\n",
        "    },\n",
        ")\n",
        "\n",
        "graph.add_edge(\"tools\", \"our_agent\")\n",
        "\n",
        "app = graph.compile()"
      ]
    },
    {
      "cell_type": "code",
      "execution_count": null,
      "metadata": {
        "colab": {
          "base_uri": "https://localhost:8080/",
          "height": 290
        },
        "id": "-6RBqb96IwbB",
        "outputId": "03e5cffe-b873-4b92-9193-ea55678da1dd"
      },
      "outputs": [
        {
          "data": {
            "image/png": "[encoded data removed]",
            "text/plain": [
              "<IPython.core.display.Image object>"
            ]
          },
          "metadata": {},
          "output_type": "display_data"
        }
      ],
      "source": [
        "from IPython.display import Image, display\n",
        "display(Image(app.get_graph().draw_mermaid_png()))"
      ]
    },
    {
      "cell_type": "code",
      "execution_count": null,
      "metadata": {
        "colab": {
          "base_uri": "https://localhost:8080/"
        },
        "id": "_7cbYWMuIzkZ",
        "outputId": "b705e3cf-061d-4c51-b3a0-b42ff8a30db6"
      },
      "outputs": [
        {
          "name": "stdout",
          "output_type": "stream",
          "text": [
            "================================\u001b[1m Human Message \u001b[0m=================================\n",
            "\n",
            "todays weather\n",
            "==================================\u001b[1m Ai Message \u001b[0m==================================\n",
            "\n",
            "I am sorry, I cannot fulfill this request. The available tools lack the desired functionality.\n"
          ]
        }
      ],
      "source": [
        "def print_stream(stream):\n",
        "    for s in stream:\n",
        "        message = s[\"messages\"][-1]\n",
        "        if isinstance(message, tuple):\n",
        "            print(message)\n",
        "        else:\n",
        "            message.pretty_print()\n",
        "init_state = AgentState(messages=\"todays weather\")\n",
        "print_stream(app.stream(init_state, stream_mode=\"values\"))"
      ]
    },
    {
      "cell_type": "markdown",
      "metadata": {
        "id": "pF6D0hAQOrXj"
      },
      "source": [
        "How the flow works in ReAct"
      ]
    },
    {
      "cell_type": "code",
      "execution_count": null,
      "metadata": {
        "colab": {
          "base_uri": "https://localhost:8080/"
        },
        "id": "dEElreOpPLGb",
        "outputId": "58938f19-830d-4cd2-f470-493f712b6180"
      },
      "outputs": [
        {
          "name": "stdout",
          "output_type": "stream",
          "text": [
            "LLM Reply: I am sorry, I cannot fulfill this request. The available tools lack the desired functionality.\n",
            "Tool Calls: []\n"
          ]
        }
      ],
      "source": [
        "query = \"precipitation_mm what does is mean\"\n",
        "\n",
        "agent_state: AgentState = {\"messages\": [HumanMessage(content=query)]}\n",
        "next_state = model_call(agent_state)\n",
        "tool_call = next_state[\"messages\"][-1].tool_calls\n",
        "llm_reply = next_state[\"messages\"][-1].content\n",
        "print(f'LLM Reply: {llm_reply}')\n",
        "print(f'Tool Calls: {tool_call}')"
      ]
    },
    {
      "cell_type": "code",
      "execution_count": null,
      "metadata": {
        "colab": {
          "base_uri": "https://localhost:8080/",
          "height": 35
        },
        "id": "ALb-9i5_Ok0S",
        "outputId": "c611d8a9-e715-4e92-ef1d-9dcb2e588262"
      },
      "outputs": [
        {
          "data": {
            "application/vnd.google.colaboratory.intrinsic+json": {
              "type": "string"
            },
            "text/plain": [
              "'7'"
            ]
          },
          "execution_count": 63,
          "metadata": {},
          "output_type": "execute_result"
        }
      ],
      "source": [
        "decision = should_continue(next_state)\n",
        "if decision == 'continue':\n",
        "    res = tool_node.invoke(next_state)\n",
        "elif decision == 'end':\n",
        "    res = next_state\n",
        "res['messages'][-1].content"
      ]
    },
    {
      "cell_type": "markdown",
      "metadata": {
        "id": "Ymb1s05xPAhj"
      },
      "source": [
        "Search Tool"
      ]
    },
    {
      "cell_type": "code",
      "execution_count": null,
      "metadata": {
        "colab": {
          "base_uri": "https://localhost:8080/",
          "height": 122
        },
        "id": "Q0Ek9iliJtJ2",
        "outputId": "26a4f42d-c400-41c2-ea8c-2b08082c1eb3"
      },
      "outputs": [
        {
          "data": {
            "application/vnd.google.colaboratory.intrinsic+json": {
              "type": "string"
            },
            "text/plain": [
              "\"Details about today's date with count of days, weeks, and months, Sun and Moon cycles, Zodiac signs and holidays. Discover today's exact date and time, learn about time zones, date formats, and explore our comprehensive collection of date and time tools including calculators, converters, and calendars. Perfect for planning, scheduling, and time management. 7 million locations, 58 languages, synchronized with atomic clock time. Current local time and date now, with date picker and world clock. RapidTables. Search Share. ... Today's date: day of week, month, day, year. Time zone with location and GMT offset. Date picker of current date. Calendar chart. See also. UK time; New York time; Los Angeles time; Chicago time; Online clock. What time is it in different regions of United States, Canada, Australia, Europe and the World.\""
            ]
          },
          "execution_count": 37,
          "metadata": {},
          "output_type": "execute_result"
        }
      ],
      "source": [
        "from langchain_community.tools import DuckDuckGoSearchRun\n",
        "\n",
        "ddg = DuckDuckGoSearchRun()\n",
        "\n",
        "ddg.invoke(\"today date\")\n"
      ]
    },
    {
      "cell_type": "markdown",
      "metadata": {
        "id": "-Oak0UAePCOc"
      },
      "source": [
        "Weather API Tool"
      ]
    },
    {
      "cell_type": "code",
      "execution_count": 1,
      "metadata": {
        "id": "_FZVB4jILDsC"
      },
      "outputs": [],
      "source": [
        "import requests\n",
        "from langchain_core.tools import tool\n",
        "\n",
        "@tool\n",
        "def get_weather_info(city: str, date: str) -> dict:\n",
        "    \"\"\"Returns the weather forecast for a given city and date (YYYY-MM-DD format).\"\"\"\n",
        "    url = f\"https://nominatim.openstreetmap.org/search\"\n",
        "    params = {\n",
        "        \"q\": city,\n",
        "        \"format\": \"json\",\n",
        "        \"limit\": 1\n",
        "    }\n",
        "    response = requests.get(url, params=params, headers={\"User-Agent\": \"weather-app\"})\n",
        "    if response.status_code == 200 and response.json():\n",
        "        data = response.json()[0]\n",
        "        latitude, longitude = float(data[\"lat\"]), float(data[\"lon\"])\n",
        "    else:\n",
        "        return {\"success\": False, \"message\": f\"City '{city}' not found.\"}\n",
        "\n",
        "    forecast_url = (\n",
        "        f\"https://api.open-meteo.com/v1/forecast\"\n",
        "        f\"?latitude={latitude}&longitude={longitude}\"\n",
        "        f\"&daily=temperature_2m_max,temperature_2m_min,precipitation_sum\"\n",
        "        f\"&timezone=auto\"\n",
        "        f\"&start_date={date}&end_date={date}\"\n",
        "    )\n",
        "\n",
        "    response = requests.get(forecast_url)\n",
        "    if response.status_code == 200:\n",
        "        data = response.json()\n",
        "\n",
        "        precipitation = data['daily']['precipitation_sum'][0]\n",
        "        max_temp = data['daily']['temperature_2m_max'][0]\n",
        "        min_temp = data['daily']['temperature_2m_min'][0]\n",
        "\n",
        "        # Basic condition inference\n",
        "        if precipitation > 0:\n",
        "            condition = \"Rainy\"\n",
        "        elif max_temp > 25:\n",
        "            condition = \"Sunny\"\n",
        "        else:\n",
        "            condition = \"Cloudy\"\n",
        "\n",
        "        return {\n",
        "            \"success\": True,\n",
        "            \"city\": city,\n",
        "            \"date\": date,\n",
        "            \"max_temp\": max_temp,\n",
        "            \"min_temp\": min_temp,\n",
        "            \"precipitation_mm\": precipitation,\n",
        "            \"condition\": condition\n",
        "        }\n",
        "    else:\n",
        "        return {\"success\": False, \"message\": \"Weather info could not be fetched.\"}\n"
      ]
    },
    {
      "cell_type": "code",
      "execution_count": 2,
      "metadata": {},
      "outputs": [
        {
          "data": {
            "text/plain": [
              "True"
            ]
          },
          "execution_count": 2,
          "metadata": {},
          "output_type": "execute_result"
        }
      ],
      "source": [
        "from dotenv import load_dotenv\n",
        "load_dotenv()  "
      ]
    },
    {
      "cell_type": "code",
      "execution_count": 3,
      "metadata": {
        "id": "gAGPZ3NRPaIE"
      },
      "outputs": [],
      "source": [
        "from langchain_google_genai import ChatGoogleGenerativeAI\n",
        "\n",
        "tools = [get_weather_info]\n",
        "model = ChatGoogleGenerativeAI(model=\"gemini-2.0-flash\").bind_tools(tools)"
      ]
    },
    {
      "cell_type": "code",
      "execution_count": 4,
      "metadata": {
        "colab": {
          "base_uri": "https://localhost:8080/"
        },
        "id": "eo0FFYKCP7uL",
        "outputId": "894cc5b9-763d-431e-e519-c07a46fa132c"
      },
      "outputs": [
        {
          "name": "stdout",
          "output_type": "stream",
          "text": [
            "{'success': True, 'city': 'Dhaka', 'date': '2025-06-15', 'max_temp': 31.9, 'min_temp': 27.3, 'precipitation_mm': 9.6, 'condition': 'Rainy'}\n"
          ]
        }
      ],
      "source": [
        "result = get_weather_info.invoke({\"city\": \"Dhaka\", \"date\": \"2025-06-15\"})\n",
        "print(result)"
      ]
    },
    {
      "cell_type": "code",
      "execution_count": 5,
      "metadata": {
        "colab": {
          "base_uri": "https://localhost:8080/"
        },
        "id": "twpf9ngKPnqT",
        "outputId": "322c0668-ae7b-4f35-d675-8fb894b896e5"
      },
      "outputs": [
        {
          "data": {
            "text/plain": [
              "AIMessage(content='', additional_kwargs={'function_call': {'name': 'get_weather_info', 'arguments': '{\"city\": \"dhaka\", \"date\": \"2025-06-15\"}'}}, response_metadata={'prompt_feedback': {'block_reason': 0, 'safety_ratings': []}, 'finish_reason': 'STOP', 'model_name': 'gemini-2.0-flash', 'safety_ratings': []}, id='run--76477d7e-9b3d-4347-8f3b-b606470d686f-0', tool_calls=[{'name': 'get_weather_info', 'args': {'city': 'dhaka', 'date': '2025-06-15'}, 'id': '07b8e945-2204-4b90-976a-943a73abf9c9', 'type': 'tool_call'}], usage_metadata={'input_tokens': 45, 'output_tokens': 19, 'total_tokens': 64, 'input_token_details': {'cache_read': 0}})"
            ]
          },
          "execution_count": 5,
          "metadata": {},
          "output_type": "execute_result"
        }
      ],
      "source": [
        "model.invoke(\"weather of dhaka 2025-06-15\")"
      ]
    }
  ],
  "metadata": {
    "colab": {
      "provenance": []
    },
    "kernelspec": {
      "display_name": "venv",
      "language": "python",
      "name": "python3"
    },
    "language_info": {
      "codemirror_mode": {
        "name": "ipython",
        "version": 3
      },
      "file_extension": ".py",
      "mimetype": "text/x-python",
      "name": "python",
      "nbconvert_exporter": "python",
      "pygments_lexer": "ipython3",
      "version": "3.11.9"
    }
  },
  "nbformat": 4,
  "nbformat_minor": 0
}
